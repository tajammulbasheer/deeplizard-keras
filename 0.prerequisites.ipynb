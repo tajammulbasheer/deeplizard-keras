{
 "cells": [
  {
   "attachments": {},
   "cell_type": "markdown",
   "metadata": {},
   "source": [
    "### Getting started with Keras"
   ]
  },
  {
   "attachments": {},
   "cell_type": "markdown",
   "metadata": {},
   "source": [
    "Keras is a high-level neural networks API, written in Python.\n",
    "Since it’s written in Python, it can run on all the major operating systems.\n",
    "In my subsequent Keras videos, I will be working on a Linux machine."
   ]
  },
  {
   "attachments": {},
   "cell_type": "markdown",
   "metadata": {},
   "source": [
    "Keras was developed with  focus on enabling faster user expermentation faster.\n",
    "Allows us to go from idea and implementation in few steps.\n",
    "Don't commit yourself to learning any particular API and sticking to it. Learn multiple of them.\n",
    "For job prospects knowing more than one API shows your experience and allows you to make analysis on which suits for which problems"
   ]
  },
  {
   "attachments": {},
   "cell_type": "markdown",
   "metadata": {},
   "source": [
    "Historically Keras was a highl level API that could be configured with anyone the three low level APIs.Tensorflow, Theano, CNTK\n",
    "\n",
    "Now Keras runs purely on tensorflow backend."
   ]
  },
  {
   "attachments": {},
   "cell_type": "markdown",
   "metadata": {},
   "source": [
    "#### Prerequisites"
   ]
  },
  {
   "attachments": {},
   "cell_type": "markdown",
   "metadata": {},
   "source": [
    "1.\tKeras is both CPU and GPU compatible. \n",
    "    - If you plan to train on small or simple datasets, then you will most likely be fine solely using your CPU.\n",
    "    - Otherwise, you will need a machine with a GPU, and you will need to install cuDNN (NVIDIA's Deep Neural Network library).\n",
    "    - GPU is not required for thid course\n",
    "2.\tInstall Python.\n",
    "    - I personally recommend installing Anaconda, a Python distribution.\n",
    "    - Currently, Keras is compatible with Python 2.7-3.5.\n",
    "3.\tInstall a backend engine.\n",
    "    - Keras supports either Theano or Tensorflow or CNTK.\n",
    "    - Keras uses TF by default, so if using Theano or CNTK, you will need to change Keras configuration afterwards. \n",
    "    - I have another video in this playlist that explains how to change the backend from Tensorflow to Theano.\n",
    "4.\tInstall Keras.\n",
    "5.\tInstall a Python IDE. \n",
    "    - I prefer working with Jupyter Notebook, a scientific notebook for Python.\n",
    "    - I’ll be using this for working with Keras in subsequent videos.\n",
    "6.\tInstall HDF5 and h5py to have the ability to save Keras models to disk.\n"
   ]
  },
  {
   "attachments": {},
   "cell_type": "markdown",
   "metadata": {},
   "source": [
    "#### GPU Support\n",
    "Tensorflow including runs on \n",
    "GPU support is available for Windows and Ubunto systems with CUDA enabled graphics cards\n",
    "If  you have both a CPU and GPU, GPU is automatically seleted for  GPU execsutable code\n",
    "\n",
    "* Setup GPU\n",
    "\n",
    "Required: NVIDI GPU with CUDA Computable Capabalities\n",
    "For Windows \n",
    "- Tensorflow installed\n",
    "- Download NVIDIA Drivers and Install\n",
    "- Install CUDA toolkit currently supported by tensorflow\n",
    "- Microsoft Visual Studio for CUDA\n",
    "- Download and Install cuDNN register as user\n",
    "- Manual Install no wizard\n",
    "- Setup Enviroment Variables make sure it points were CUDA is on disk\n",
    "- Restart "
   ]
  },
  {
   "cell_type": "code",
   "execution_count": 1,
   "metadata": {},
   "outputs": [
    {
     "name": "stdout",
     "output_type": "stream",
     "text": [
      "Num of GPUs 0\n"
     ]
    }
   ],
   "source": [
    "# Step to verfiy GPU is identified by tensorflow\n",
    "import tensorflow as tf\n",
    "print('Num of GPUs', len(tf.config.experimental.list_physical_devices('GPU')))"
   ]
  }
 ],
 "metadata": {
  "kernelspec": {
   "display_name": "Python 3",
   "language": "python",
   "name": "python3"
  },
  "language_info": {
   "codemirror_mode": {
    "name": "ipython",
    "version": 3
   },
   "file_extension": ".py",
   "mimetype": "text/x-python",
   "name": "python",
   "nbconvert_exporter": "python",
   "pygments_lexer": "ipython3",
   "version": "3.7.9"
  },
  "vscode": {
   "interpreter": {
    "hash": "74f73ff77506c8c8ceba512ad7b5b6c726542645d4402b3e6c24c3aa2a10b197"
   }
  }
 },
 "nbformat": 4,
 "nbformat_minor": 2
}
