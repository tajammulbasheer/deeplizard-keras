{
 "cells": [
  {
   "attachments": {},
   "cell_type": "markdown",
   "metadata": {},
   "source": [
    "### Deep Learning"
   ]
  },
  {
   "attachments": {},
   "cell_type": "markdown",
   "metadata": {},
   "source": [
    "**Definition:**\n",
    "\n",
    "- Deep learning is a subfield of machine learning that uses algorithms inspired by the structure and function of the brain’s neural networks. \n",
    "- As a subfield of ML, DL also algorithms to analyze data, learn from that data, and then make a determination or prediction about new data."
   ]
  },
  {
   "attachments": {},
   "cell_type": "markdown",
   "metadata": {},
   "source": [
    "### Data Preperation and Preprocessing"
   ]
  },
  {
   "attachments": {},
   "cell_type": "markdown",
   "metadata": {},
   "source": [
    "To train a neural network we need a dataset set.\n",
    "Dataset can be anything as Images, text, sound etc"
   ]
  },
  {
   "cell_type": "code",
   "execution_count": 1,
   "metadata": {
    "collapsed": true
   },
   "outputs": [],
   "source": [
    "import numpy as np # for numerical computation\n",
    "from random import randint #for random number generation\n",
    "from sklearn.preprocessing import MinMaxScaler # for normalizing data\n",
    "from sklearn.utils import shuffle # for shuffling data"
   ]
  },
  {
   "cell_type": "code",
   "execution_count": 2,
   "metadata": {
    "collapsed": true
   },
   "outputs": [],
   "source": [
    "train_labels =  []\n",
    "train_samples = []"
   ]
  },
  {
   "attachments": {},
   "cell_type": "markdown",
   "metadata": {},
   "source": [
    "Example data: \n",
    "- An experiemental drug was tested on individuals from ages 13 to 100. \n",
    "- The trial had 2100 participants. Half were under 65 years old, half were over 65 years old.\n",
    "- 95% of patientes 65 or older experienced side effects.\n",
    "- 95% of patients under 65 experienced no side effects."
   ]
  },
  {
   "cell_type": "code",
   "execution_count": 3,
   "metadata": {
    "collapsed": false
   },
   "outputs": [],
   "source": [
    "for i in range(50):\n",
    "    # The 5% of younger individuals who did experience side effects\n",
    "    random_younger = randint(13,64)\n",
    "    train_samples.append(random_younger)\n",
    "    train_labels.append(1)\n",
    "    \n",
    "    # The 5% of older individuals who did not experience side effects\n",
    "    random_older = randint(65,100)\n",
    "    train_samples.append(random_older)\n",
    "    train_labels.append(0)\n",
    "\n",
    "for i in range(1000):\n",
    "    # The 95% of younger individuals who did not experience side effects\n",
    "    random_younger = randint(13,64)\n",
    "    train_samples.append(random_younger)\n",
    "    train_labels.append(0)\n",
    "    \n",
    "    # The 95% of older individuals who did experience side effects\n",
    "    random_older = randint(65,100)\n",
    "    train_samples.append(random_older)\n",
    "    train_labels.append(1)"
   ]
  },
  {
   "cell_type": "code",
   "execution_count": 4,
   "metadata": {
    "collapsed": false
   },
   "outputs": [
    {
     "name": "stdout",
     "output_type": "stream",
     "text": [
      "2100\n",
      "79\n"
     ]
    }
   ],
   "source": [
    "#print raw data shape\n",
    "print(len(train_samples))\n",
    "print(train_samples[67])\n",
    "\n",
    "# if want see all instances \n",
    "# for i in train_samples:\n",
    "#     print(i)"
   ]
  },
  {
   "cell_type": "code",
   "execution_count": 5,
   "metadata": {
    "collapsed": false
   },
   "outputs": [
    {
     "name": "stdout",
     "output_type": "stream",
     "text": [
      "2100\n",
      "0\n"
     ]
    }
   ],
   "source": [
    "#print raw data labels shape\n",
    "print(len(train_labels))\n",
    "print(train_labels[67])\n",
    "\n",
    "# if want see all instances \n",
    "# for i in test_samples:\n",
    "#     print(i)\n"
   ]
  },
  {
   "cell_type": "code",
   "execution_count": 6,
   "metadata": {
    "collapsed": true
   },
   "outputs": [],
   "source": [
    "train_labels = np.array(train_labels)\n",
    "train_samples = np.array(train_samples)\n",
    "train_labels, train_samples = shuffle(train_labels, train_samples)"
   ]
  },
  {
   "cell_type": "code",
   "execution_count": 7,
   "metadata": {
    "collapsed": false
   },
   "outputs": [],
   "source": [
    "# normalizing our data by rescaling it from whatever range it has to range 0 1\n",
    "scaler = MinMaxScaler(feature_range=(0,1))\n",
    "scaled_train_samples = scaler.fit_transform((train_samples).reshape(-1,1))"
   ]
  },
  {
   "cell_type": "code",
   "execution_count": 8,
   "metadata": {
    "collapsed": false
   },
   "outputs": [
    {
     "name": "stdout",
     "output_type": "stream",
     "text": [
      "2100\n",
      "[0.6091954]\n"
     ]
    }
   ],
   "source": [
    "#print scaled data\n",
    "print(len(scaled_train_samples))\n",
    "print(scaled_train_samples[67])\n",
    "\n",
    "# want see all instances \n",
    "# for i in scaled_train_samples:\n",
    "#     print(i)"
   ]
  },
  {
   "attachments": {},
   "cell_type": "markdown",
   "metadata": {},
   "source": [
    "### Simple Sequential Model ###\n",
    "Can be defined as a linear stack of layers. It receives the data and passes it through the layers and produces the output\n"
   ]
  },
  {
   "cell_type": "code",
   "execution_count": 2,
   "metadata": {
    "collapsed": false
   },
   "outputs": [],
   "source": [
    "from keras.models import Sequential\n",
    "from keras.layers import Dense\n",
    "from keras.optimizers import Adam"
   ]
  },
  {
   "attachments": {},
   "cell_type": "markdown",
   "metadata": {},
   "source": [
    "Artificial neural network are typically organized in layers. \n",
    "Different types of layers include\n",
    "\n",
    "- Dense (or fully connected) Layers\n",
    "- Convolutional layers\n",
    "- Pooling Layers\n",
    "- Recurrent Layers\n",
    "- Normalization Layers\n",
    "- Many others"
   ]
  },
  {
   "attachments": {},
   "cell_type": "markdown",
   "metadata": {},
   "source": [
    "Dense layers are fully coonnected layers were each node is connected to each node in previous layer\n",
    "Relu is the activation of form $ReLU(a) = max(0,a)$"
   ]
  },
  {
   "attachments": {},
   "cell_type": "markdown",
   "metadata": {},
   "source": [
    "Softmax output probablity of each class"
   ]
  },
  {
   "cell_type": "code",
   "execution_count": 10,
   "metadata": {
    "collapsed": false
   },
   "outputs": [],
   "source": [
    "model = Sequential([\n",
    "    Dense(16, input_shape=(1,), activation='relu'),\n",
    "    Dense(32, activation='relu'),\n",
    "    Dense(2, activation='softmax') \n",
    "])"
   ]
  },
  {
   "cell_type": "code",
   "execution_count": 13,
   "metadata": {
    "collapsed": false
   },
   "outputs": [
    {
     "name": "stdout",
     "output_type": "stream",
     "text": [
      "Model: \"sequential\"\n",
      "_________________________________________________________________\n",
      " Layer (type)                Output Shape              Param #   \n",
      "=================================================================\n",
      " dense (Dense)               (None, 16)                32        \n",
      "                                                                 \n",
      " dense_1 (Dense)             (None, 32)                544       \n",
      "                                                                 \n",
      " dense_2 (Dense)             (None, 2)                 66        \n",
      "                                                                 \n",
      "=================================================================\n",
      "Total params: 642\n",
      "Trainable params: 642\n",
      "Non-trainable params: 0\n",
      "_________________________________________________________________\n"
     ]
    }
   ],
   "source": [
    "model.summary()"
   ]
  },
  {
   "attachments": {},
   "cell_type": "markdown",
   "metadata": {},
   "source": [
    "Adam is the optimizer used with learning rate of .0001.\n",
    "Metrics specify what metrics you wanna see while training"
   ]
  },
  {
   "cell_type": "code",
   "execution_count": 14,
   "metadata": {
    "collapsed": false
   },
   "outputs": [],
   "source": [
    "model.compile(Adam(learning_rate=.0001), loss='sparse_categorical_crossentropy', metrics=['accuracy'])"
   ]
  },
  {
   "attachments": {},
   "cell_type": "markdown",
   "metadata": {},
   "source": [
    "Training our model happens when we call the fit( ) function.\n",
    "Batch specifies how much data we feed to model in one go.\n",
    "Epoches specify how many times the model will be trained"
   ]
  },
  {
   "attachments": {},
   "cell_type": "markdown",
   "metadata": {},
   "source": [
    "Shuffle is set true, to shuffle data  removing patterns in data\n"
   ]
  },
  {
   "cell_type": "code",
   "execution_count": 15,
   "metadata": {
    "collapsed": false
   },
   "outputs": [
    {
     "name": "stdout",
     "output_type": "stream",
     "text": [
      "Epoch 1/30\n",
      "210/210 - 1s - loss: 0.6910 - accuracy: 0.4819 - 1s/epoch - 7ms/step\n",
      "Epoch 2/30\n",
      "210/210 - 0s - loss: 0.6515 - accuracy: 0.6329 - 410ms/epoch - 2ms/step\n",
      "Epoch 3/30\n",
      "210/210 - 0s - loss: 0.6145 - accuracy: 0.6948 - 402ms/epoch - 2ms/step\n",
      "Epoch 4/30\n",
      "210/210 - 0s - loss: 0.5780 - accuracy: 0.7457 - 410ms/epoch - 2ms/step\n",
      "Epoch 5/30\n",
      "210/210 - 0s - loss: 0.5424 - accuracy: 0.7981 - 449ms/epoch - 2ms/step\n",
      "Epoch 6/30\n",
      "210/210 - 0s - loss: 0.5085 - accuracy: 0.8267 - 435ms/epoch - 2ms/step\n",
      "Epoch 7/30\n",
      "210/210 - 0s - loss: 0.4754 - accuracy: 0.8457 - 416ms/epoch - 2ms/step\n",
      "Epoch 8/30\n",
      "210/210 - 0s - loss: 0.4434 - accuracy: 0.8614 - 431ms/epoch - 2ms/step\n",
      "Epoch 9/30\n",
      "210/210 - 0s - loss: 0.4146 - accuracy: 0.8790 - 436ms/epoch - 2ms/step\n",
      "Epoch 10/30\n",
      "210/210 - 0s - loss: 0.3889 - accuracy: 0.8886 - 383ms/epoch - 2ms/step\n",
      "Epoch 11/30\n",
      "210/210 - 0s - loss: 0.3665 - accuracy: 0.9010 - 380ms/epoch - 2ms/step\n",
      "Epoch 12/30\n",
      "210/210 - 0s - loss: 0.3479 - accuracy: 0.9086 - 386ms/epoch - 2ms/step\n",
      "Epoch 13/30\n",
      "210/210 - 0s - loss: 0.3327 - accuracy: 0.9086 - 381ms/epoch - 2ms/step\n",
      "Epoch 14/30\n",
      "210/210 - 0s - loss: 0.3205 - accuracy: 0.9176 - 374ms/epoch - 2ms/step\n",
      "Epoch 15/30\n",
      "210/210 - 0s - loss: 0.3103 - accuracy: 0.9181 - 390ms/epoch - 2ms/step\n",
      "Epoch 16/30\n",
      "210/210 - 0s - loss: 0.3022 - accuracy: 0.9243 - 397ms/epoch - 2ms/step\n",
      "Epoch 17/30\n",
      "210/210 - 0s - loss: 0.2955 - accuracy: 0.9229 - 390ms/epoch - 2ms/step\n",
      "Epoch 18/30\n",
      "210/210 - 0s - loss: 0.2900 - accuracy: 0.9276 - 390ms/epoch - 2ms/step\n",
      "Epoch 19/30\n",
      "210/210 - 0s - loss: 0.2856 - accuracy: 0.9248 - 394ms/epoch - 2ms/step\n",
      "Epoch 20/30\n",
      "210/210 - 0s - loss: 0.2819 - accuracy: 0.9271 - 420ms/epoch - 2ms/step\n",
      "Epoch 21/30\n",
      "210/210 - 0s - loss: 0.2788 - accuracy: 0.9281 - 395ms/epoch - 2ms/step\n",
      "Epoch 22/30\n",
      "210/210 - 0s - loss: 0.2760 - accuracy: 0.9295 - 390ms/epoch - 2ms/step\n",
      "Epoch 23/30\n",
      "210/210 - 0s - loss: 0.2738 - accuracy: 0.9343 - 459ms/epoch - 2ms/step\n",
      "Epoch 24/30\n",
      "210/210 - 1s - loss: 0.2720 - accuracy: 0.9276 - 503ms/epoch - 2ms/step\n",
      "Epoch 25/30\n",
      "210/210 - 0s - loss: 0.2700 - accuracy: 0.9338 - 387ms/epoch - 2ms/step\n",
      "Epoch 26/30\n",
      "210/210 - 0s - loss: 0.2687 - accuracy: 0.9295 - 376ms/epoch - 2ms/step\n",
      "Epoch 27/30\n",
      "210/210 - 0s - loss: 0.2673 - accuracy: 0.9338 - 381ms/epoch - 2ms/step\n",
      "Epoch 28/30\n",
      "210/210 - 0s - loss: 0.2661 - accuracy: 0.9305 - 430ms/epoch - 2ms/step\n",
      "Epoch 29/30\n",
      "210/210 - 0s - loss: 0.2651 - accuracy: 0.9338 - 481ms/epoch - 2ms/step\n",
      "Epoch 30/30\n",
      "210/210 - 0s - loss: 0.2641 - accuracy: 0.9338 - 411ms/epoch - 2ms/step\n"
     ]
    },
    {
     "data": {
      "text/plain": [
       "<keras.callbacks.History at 0x21b672a3e48>"
      ]
     },
     "execution_count": 15,
     "metadata": {},
     "output_type": "execute_result"
    }
   ],
   "source": [
    "model.fit(scaled_train_samples, train_labels,batch_size=10, epochs=30, shuffle=True, verbose=2)"
   ]
  },
  {
   "attachments": {},
   "cell_type": "markdown",
   "metadata": {},
   "source": [
    "### Validation Set\n",
    "Helps us to see how well the model is generalizing on the data that it has not seen during training.\n",
    "Helps us to look for overfitting, overfitting occurs when our model performs very well on train set but is not good at generalizg for examples it has not seen\n",
    "\n",
    "##### Creating a Validation Set\n",
    "* Creating a data structure to hold a validation seprately using *valid_set = (x_val, y_val)* passing it to *fit(validation_data= )* \n",
    "* Or pass *validation_split=* parameter inm the *fit( )* function specfing what percentage you wanna use for validation \n",
    "\n",
    " \n"
   ]
  },
  {
   "cell_type": "code",
   "execution_count": 16,
   "metadata": {},
   "outputs": [
    {
     "name": "stdout",
     "output_type": "stream",
     "text": [
      "Epoch 1/20\n",
      "189/189 - 1s - loss: 0.2631 - accuracy: 0.9339 - val_loss: 0.2663 - val_accuracy: 0.9333 - 694ms/epoch - 4ms/step\n",
      "Epoch 2/20\n",
      "189/189 - 0s - loss: 0.2624 - accuracy: 0.9317 - val_loss: 0.2651 - val_accuracy: 0.9333 - 403ms/epoch - 2ms/step\n",
      "Epoch 3/20\n",
      "189/189 - 0s - loss: 0.2618 - accuracy: 0.9339 - val_loss: 0.2663 - val_accuracy: 0.9190 - 397ms/epoch - 2ms/step\n",
      "Epoch 4/20\n",
      "189/189 - 0s - loss: 0.2615 - accuracy: 0.9323 - val_loss: 0.2650 - val_accuracy: 0.9333 - 414ms/epoch - 2ms/step\n",
      "Epoch 5/20\n",
      "189/189 - 0s - loss: 0.2607 - accuracy: 0.9339 - val_loss: 0.2644 - val_accuracy: 0.9333 - 439ms/epoch - 2ms/step\n",
      "Epoch 6/20\n",
      "189/189 - 0s - loss: 0.2603 - accuracy: 0.9323 - val_loss: 0.2640 - val_accuracy: 0.9333 - 427ms/epoch - 2ms/step\n",
      "Epoch 7/20\n",
      "189/189 - 0s - loss: 0.2598 - accuracy: 0.9339 - val_loss: 0.2618 - val_accuracy: 0.9333 - 380ms/epoch - 2ms/step\n",
      "Epoch 8/20\n",
      "189/189 - 0s - loss: 0.2595 - accuracy: 0.9339 - val_loss: 0.2610 - val_accuracy: 0.9333 - 420ms/epoch - 2ms/step\n",
      "Epoch 9/20\n",
      "189/189 - 0s - loss: 0.2591 - accuracy: 0.9339 - val_loss: 0.2616 - val_accuracy: 0.9333 - 399ms/epoch - 2ms/step\n",
      "Epoch 10/20\n",
      "189/189 - 0s - loss: 0.2588 - accuracy: 0.9339 - val_loss: 0.2605 - val_accuracy: 0.9333 - 392ms/epoch - 2ms/step\n",
      "Epoch 11/20\n",
      "189/189 - 0s - loss: 0.2583 - accuracy: 0.9339 - val_loss: 0.2602 - val_accuracy: 0.9333 - 394ms/epoch - 2ms/step\n",
      "Epoch 12/20\n",
      "189/189 - 0s - loss: 0.2580 - accuracy: 0.9344 - val_loss: 0.2596 - val_accuracy: 0.9333 - 400ms/epoch - 2ms/step\n",
      "Epoch 13/20\n",
      "189/189 - 0s - loss: 0.2577 - accuracy: 0.9339 - val_loss: 0.2591 - val_accuracy: 0.9333 - 390ms/epoch - 2ms/step\n",
      "Epoch 14/20\n",
      "189/189 - 0s - loss: 0.2573 - accuracy: 0.9339 - val_loss: 0.2594 - val_accuracy: 0.9333 - 386ms/epoch - 2ms/step\n",
      "Epoch 15/20\n",
      "189/189 - 0s - loss: 0.2570 - accuracy: 0.9354 - val_loss: 0.2587 - val_accuracy: 0.9333 - 395ms/epoch - 2ms/step\n",
      "Epoch 16/20\n",
      "189/189 - 0s - loss: 0.2568 - accuracy: 0.9354 - val_loss: 0.2573 - val_accuracy: 0.9333 - 393ms/epoch - 2ms/step\n",
      "Epoch 17/20\n",
      "189/189 - 0s - loss: 0.2565 - accuracy: 0.9365 - val_loss: 0.2578 - val_accuracy: 0.9333 - 400ms/epoch - 2ms/step\n",
      "Epoch 18/20\n",
      "189/189 - 0s - loss: 0.2562 - accuracy: 0.9339 - val_loss: 0.2567 - val_accuracy: 0.9333 - 390ms/epoch - 2ms/step\n",
      "Epoch 19/20\n",
      "189/189 - 0s - loss: 0.2557 - accuracy: 0.9344 - val_loss: 0.2579 - val_accuracy: 0.9333 - 385ms/epoch - 2ms/step\n",
      "Epoch 20/20\n",
      "189/189 - 0s - loss: 0.2554 - accuracy: 0.9339 - val_loss: 0.2560 - val_accuracy: 0.9333 - 381ms/epoch - 2ms/step\n"
     ]
    },
    {
     "data": {
      "text/plain": [
       "<keras.callbacks.History at 0x21b67116448>"
      ]
     },
     "execution_count": 16,
     "metadata": {},
     "output_type": "execute_result"
    }
   ],
   "source": [
    "model.fit(scaled_train_samples, train_labels,\n",
    "          validation_split=0.1, batch_size=10, epochs=20, shuffle=True, verbose=2)\n"
   ]
  },
  {
   "attachments": {},
   "cell_type": "markdown",
   "metadata": {},
   "source": [
    "### Test Set\n",
    "Models are used to make inference after it has been trained\n",
    "Test set is used for making model inference check. How well can model perform on deployment.\n",
    "Test data should be processed in the same way  training data was processed"
   ]
  },
  {
   "cell_type": "code",
   "execution_count": 17,
   "metadata": {},
   "outputs": [],
   "source": [
    "test_labels =  []\n",
    "test_samples = []"
   ]
  },
  {
   "cell_type": "code",
   "execution_count": 18,
   "metadata": {},
   "outputs": [],
   "source": [
    "for i in range(10):\n",
    "    # The 5% of younger individuals who did experience side effects\n",
    "    random_younger = randint(13,64)\n",
    "    test_samples.append(random_younger)\n",
    "    test_labels.append(1)\n",
    "    \n",
    "    # The 5% of older individuals who did not experience side effects\n",
    "    random_older = randint(65,100)\n",
    "    test_samples.append(random_older)\n",
    "    test_labels.append(0)\n",
    "\n",
    "for i in range(200):\n",
    "    # The 95% of younger individuals who did not experience side effects\n",
    "    random_younger = randint(13,64)\n",
    "    test_samples.append(random_younger)\n",
    "    test_labels.append(0)\n",
    "    \n",
    "    # The 95% of older individuals who did experience side effects\n",
    "    random_older = randint(65,100)\n",
    "    test_samples.append(random_older)\n",
    "    test_labels.append(1)"
   ]
  },
  {
   "cell_type": "code",
   "execution_count": 19,
   "metadata": {},
   "outputs": [],
   "source": [
    "test_labels = np.array(test_labels)\n",
    "test_samples = np.array(test_samples)\n",
    "test_labels, test_samples = shuffle(test_labels, test_samples)"
   ]
  },
  {
   "cell_type": "code",
   "execution_count": 20,
   "metadata": {},
   "outputs": [],
   "source": [
    "# normalizing our data by rescaling it from whatever range it has to range 0 1\n",
    "scaler = MinMaxScaler(feature_range=(0,1))\n",
    "scaled_test_samples = scaler.fit_transform((test_samples).reshape(-1,1))"
   ]
  },
  {
   "attachments": {},
   "cell_type": "markdown",
   "metadata": {},
   "source": [
    "### Predict\n",
    "Over model will predict probablity, the chances a person belonging to a patrticular class "
   ]
  },
  {
   "cell_type": "code",
   "execution_count": 21,
   "metadata": {},
   "outputs": [],
   "source": [
    "predictions = model.predict(x=scaled_test_samples, batch_size=10,verbose=0)"
   ]
  },
  {
   "cell_type": "code",
   "execution_count": 22,
   "metadata": {},
   "outputs": [
    {
     "data": {
      "text/plain": [
       "(420, 2)"
      ]
     },
     "execution_count": 22,
     "metadata": {},
     "output_type": "execute_result"
    }
   ],
   "source": [
    "predictions.shape"
   ]
  },
  {
   "cell_type": "code",
   "execution_count": 23,
   "metadata": {},
   "outputs": [],
   "source": [
    "rounded_predictions = np.argmax(predictions,axis=-1)"
   ]
  },
  {
   "cell_type": "code",
   "execution_count": 24,
   "metadata": {},
   "outputs": [
    {
     "data": {
      "text/plain": [
       "(420,)"
      ]
     },
     "execution_count": 24,
     "metadata": {},
     "output_type": "execute_result"
    }
   ],
   "source": [
    "rounded_predictions.shape"
   ]
  },
  {
   "attachments": {},
   "cell_type": "markdown",
   "metadata": {},
   "source": [
    "### Visualizing Results"
   ]
  },
  {
   "cell_type": "code",
   "execution_count": 25,
   "metadata": {},
   "outputs": [],
   "source": [
    "import itertools\n",
    "import pandas as pd\n",
    "import matplotlib.pyplot as plt\n",
    "from sklearn.metrics import confusion_matrix\n",
    "from seaborn import heatmap"
   ]
  },
  {
   "cell_type": "code",
   "execution_count": 26,
   "metadata": {},
   "outputs": [],
   "source": [
    "cm = confusion_matrix(y_true= test_labels,\n",
    "                      y_pred=rounded_predictions)"
   ]
  },
  {
   "attachments": {},
   "cell_type": "markdown",
   "metadata": {},
   "source": [
    "Main diagonal are correct values"
   ]
  },
  {
   "cell_type": "code",
   "execution_count": 27,
   "metadata": {},
   "outputs": [
    {
     "data": {
      "text/plain": [
       "<AxesSubplot:title={'center':'Confusion Matrix'}>"
      ]
     },
     "execution_count": 27,
     "metadata": {},
     "output_type": "execute_result"
    },
    {
     "data": {
      "image/png": "[encoded data removed]",
      "text/plain": [
       "<Figure size 640x480 with 2 Axes>"
      ]
     },
     "metadata": {},
     "output_type": "display_data"
    }
   ],
   "source": [
    "plt.imshow(cm)\n",
    "plt.title('Confusion Matrix')\n",
    "plt.xlabel('Predicted label')\n",
    "plt.ylabel('True label')\n",
    "classes = ['No side Effect','Side Effect']\n",
    "tick_marks = np.arange(len(classes))\n",
    "plt.xticks(tick_marks, classes)\n",
    "plt.yticks(tick_marks, classes)\n",
    "heatmap(pd.DataFrame(cm), annot=True, cmap=\"Purples\" ,fmt='g')\n"
   ]
  },
  {
   "attachments": {},
   "cell_type": "markdown",
   "metadata": {},
   "source": [
    "### Save and Load Model model\n",
    "Differnt ways of saving a model\n"
   ]
  },
  {
   "attachments": {},
   "cell_type": "markdown",
   "metadata": {},
   "source": [
    "#### 1.Save Function\n",
    "First way is to call save function on model.This save functions saves: \n",
    "- The architecture of the model, allowing to re-create the model.\n",
    "- The weights of the model.\n",
    "- The training configuration (loss, optimizer).\n",
    "- The state of the optimizer, allowing to resume training exactly where you left off.\n",
    "We need to pass the name with .h5 extension to the save function"
   ]
  },
  {
   "cell_type": "code",
   "execution_count": null,
   "metadata": {
    "collapsed": true
   },
   "outputs": [],
   "source": [
    "import os.path\n",
    "#next line basically checks if model is already saved don't save it\n",
    "if os.path.isfile('medical_trail_model.h5') is False:\n",
    "    model.save('medical_trial_model.h5')"
   ]
  },
  {
   "attachments": {},
   "cell_type": "markdown",
   "metadata": {},
   "source": [
    "The saved model can be loaded using the *load_model( )* function by passing the name of saved model \n",
    "We look at\n",
    "- The archicture of model\n",
    "- Weights of model\n",
    "- Optimizers of model"
   ]
  },
  {
   "cell_type": "code",
   "execution_count": 47,
   "metadata": {
    "collapsed": true
   },
   "outputs": [],
   "source": [
    "from keras.models import load_model\n",
    "new_model = load_model('medical_trial_model.h5')"
   ]
  },
  {
   "cell_type": "code",
   "execution_count": 48,
   "metadata": {
    "collapsed": false
   },
   "outputs": [
    {
     "name": "stdout",
     "output_type": "stream",
     "text": [
      "Model: \"sequential\"\n",
      "_________________________________________________________________\n",
      " Layer (type)                Output Shape              Param #   \n",
      "=================================================================\n",
      " dense (Dense)               (None, 16)                32        \n",
      "                                                                 \n",
      " dense_1 (Dense)             (None, 32)                544       \n",
      "                                                                 \n",
      " dense_2 (Dense)             (None, 2)                 66        \n",
      "                                                                 \n",
      "=================================================================\n",
      "Total params: 642\n",
      "Trainable params: 642\n",
      "Non-trainable params: 0\n",
      "_________________________________________________________________\n"
     ]
    }
   ],
   "source": [
    "new_model.summary()"
   ]
  },
  {
   "cell_type": "code",
   "execution_count": 49,
   "metadata": {
    "collapsed": false
   },
   "outputs": [
    {
     "data": {
      "text/plain": [
       "[array([[ 0.7534571 ,  0.24824175, -0.34736633,  0.7283507 , -0.5603516 ,\n",
       "          0.4124363 , -0.12634872,  0.5573509 ,  0.18707137,  0.09768706,\n",
       "          0.05327072, -0.24089974, -0.5935962 ,  0.3333455 ,  0.4327991 ,\n",
       "          0.00121947]], dtype=float32),\n",
       " array([-0.17797248, -0.10688175,  0.        , -0.15727812,  0.        ,\n",
       "        -0.03539788,  0.20925955, -0.16769744,  0.06169777,  0.1935973 ,\n",
       "         0.07703411,  0.        ,  0.        , -0.12445618, -0.14399926,\n",
       "         0.24690191], dtype=float32),\n",
       " array([[-4.50978994e-01,  7.02699199e-02,  3.13374028e-02,\n",
       "         -2.37725630e-01, -1.80971906e-01, -8.53819773e-02,\n",
       "          4.99000281e-01, -4.64579403e-01, -2.31193900e-02,\n",
       "         -4.84978735e-01,  5.51173091e-01, -3.02017272e-01,\n",
       "          5.20827770e-01, -5.40094435e-01, -3.26509416e-01,\n",
       "          2.18878537e-01,  1.01302028e-01, -3.40356141e-01,\n",
       "         -2.61468351e-01,  3.76934588e-01, -1.36007726e-01,\n",
       "         -2.61129200e-01,  2.07674220e-01,  5.37256956e-01,\n",
       "         -3.47635895e-01,  4.62219357e-01,  1.28755823e-01,\n",
       "          1.54968202e-02, -3.29539388e-01,  4.74075586e-01,\n",
       "         -7.10994899e-02,  1.64133936e-01],\n",
       "        [-3.63248944e-01, -5.92760861e-01, -1.46013126e-01,\n",
       "         -3.47106785e-01,  2.65268534e-01,  5.28778911e-01,\n",
       "          4.68580931e-01, -2.70263284e-01, -3.03060710e-01,\n",
       "          2.69497279e-04,  4.72616285e-01,  3.34452987e-01,\n",
       "          4.03738827e-01, -4.18877929e-01,  1.86545607e-02,\n",
       "          1.54191405e-01,  6.78057224e-02, -7.07879290e-02,\n",
       "         -3.50503057e-01,  5.08995473e-01,  2.84827620e-01,\n",
       "         -4.14164841e-01, -1.41332284e-01,  5.97280860e-02,\n",
       "         -3.39490980e-01,  2.40732267e-01, -3.98374766e-01,\n",
       "         -3.20064388e-02,  9.27002653e-02,  2.37861142e-01,\n",
       "         -1.03758406e-02,  7.02788681e-02],\n",
       "        [-1.68820217e-01, -2.84486234e-01,  5.69327176e-02,\n",
       "          3.43763858e-01,  3.34089786e-01,  2.55399436e-01,\n",
       "         -2.61038005e-01,  2.70864636e-01,  3.22770745e-01,\n",
       "          2.27019936e-01,  1.96772426e-01, -2.04375118e-01,\n",
       "         -2.10247353e-01, -3.24557036e-01,  2.66280472e-02,\n",
       "          2.71351635e-02,  1.40100688e-01, -2.27619618e-01,\n",
       "          3.15964192e-01, -3.09197038e-01, -3.08425248e-01,\n",
       "         -2.65228689e-01, -9.43107307e-02,  6.62823319e-02,\n",
       "         -2.27972463e-01,  8.90352130e-02,  9.16774869e-02,\n",
       "         -6.02815449e-02, -3.36997509e-01,  2.40107983e-01,\n",
       "         -1.84858933e-01, -2.02798828e-01],\n",
       "        [ 2.09695902e-02,  6.41029105e-02,  9.72243920e-02,\n",
       "         -1.79209173e-01, -2.71011889e-01,  4.02116477e-01,\n",
       "         -9.91274640e-02, -3.75775039e-01, -1.67318851e-01,\n",
       "         -3.80830765e-01,  3.82786721e-01, -6.37120232e-02,\n",
       "          1.51337817e-01,  4.37510051e-02, -4.83733207e-01,\n",
       "         -1.38482064e-01, -2.88020074e-02, -3.96199971e-01,\n",
       "          9.30218920e-02,  1.81757450e-01, -1.02154270e-01,\n",
       "         -3.30371380e-01, -3.08652729e-01,  4.21260923e-01,\n",
       "         -1.53573245e-01,  3.40712070e-01, -2.20261678e-01,\n",
       "         -1.30316362e-01, -1.88775301e-01,  4.28291261e-02,\n",
       "         -5.00063956e-01, -5.24864793e-01],\n",
       "        [ 7.88146853e-02,  1.69675648e-02,  2.92738706e-01,\n",
       "          1.71859056e-01, -2.51535356e-01,  1.76353902e-01,\n",
       "          3.02765518e-01,  2.68986136e-01,  1.66447610e-01,\n",
       "          3.82583737e-02,  1.11805141e-01, -1.28602430e-01,\n",
       "          3.64181399e-03,  1.66954368e-01, -1.77057728e-01,\n",
       "          1.24255300e-01,  2.18541414e-01, -2.72165805e-01,\n",
       "         -2.90595263e-01,  1.64854079e-01,  1.76413566e-01,\n",
       "          2.00815052e-01, -1.87207103e-01, -1.72436997e-01,\n",
       "         -2.87999362e-01, -2.66536832e-01,  3.03167254e-01,\n",
       "          1.97519273e-01, -3.22557151e-01,  2.89267987e-01,\n",
       "         -5.02977073e-02,  1.75369352e-01],\n",
       "        [-3.90655279e-01, -2.38708362e-01, -1.40508249e-01,\n",
       "          1.01492904e-01, -1.11778155e-01,  4.78138357e-01,\n",
       "         -6.07262626e-02,  1.58975124e-01, -3.24644953e-01,\n",
       "          1.16303936e-01,  4.94185925e-01,  2.60567576e-01,\n",
       "         -5.57032302e-02,  2.73810208e-01,  2.22119913e-01,\n",
       "         -3.07742298e-01,  2.30924059e-02, -1.02447130e-01,\n",
       "         -3.57880086e-01,  2.53551662e-01, -8.63447040e-02,\n",
       "         -7.51044601e-02,  8.68050680e-02,  3.23142409e-01,\n",
       "         -2.47610852e-01,  4.41534519e-01, -7.85364062e-02,\n",
       "          1.05412593e-02, -3.53967339e-01,  4.78045762e-01,\n",
       "          1.31615609e-01,  1.27505496e-01],\n",
       "        [ 4.74509932e-02,  4.54222530e-01, -2.46624112e-01,\n",
       "          7.23078623e-02,  9.39270258e-02,  8.95941630e-02,\n",
       "         -4.09677655e-01,  4.57412690e-01,  1.63447231e-01,\n",
       "          2.75871515e-01, -2.08020434e-01,  3.35601382e-02,\n",
       "         -1.02083527e-01,  5.72367668e-01,  1.39379159e-01,\n",
       "          2.10166186e-01,  1.11497283e-01,  6.77619457e-01,\n",
       "          4.22586262e-01, -1.53081924e-01, -1.16936520e-01,\n",
       "          2.90889144e-01, -2.73052752e-01, -1.99469671e-01,\n",
       "          1.86508983e-01, -3.73250842e-01,  4.02439326e-01,\n",
       "          3.08490843e-01,  2.44358212e-01, -5.00199199e-01,\n",
       "          2.06945002e-01,  1.02316299e-02],\n",
       "        [ 1.41869038e-01, -2.37540692e-01,  1.79851264e-01,\n",
       "          3.12320292e-01,  1.91503078e-01,  3.25288832e-01,\n",
       "          4.69420224e-01, -3.17044139e-01,  1.20124429e-01,\n",
       "         -1.55466318e-01,  1.75268594e-02, -1.09883755e-01,\n",
       "          4.94455040e-01, -5.13219595e-01, -4.05502230e-01,\n",
       "         -8.92965198e-02, -2.00834438e-01, -3.63852888e-01,\n",
       "         -4.12337184e-01,  2.93217808e-01, -2.56202221e-02,\n",
       "         -5.33980072e-01,  7.20253438e-02,  5.67011893e-01,\n",
       "         -1.73157960e-01, -6.55138940e-02, -3.46814506e-02,\n",
       "          6.73637986e-02,  2.05263793e-01,  3.10476989e-01,\n",
       "         -5.36189042e-02, -4.99139279e-02],\n",
       "        [ 2.72013903e-01,  1.52824029e-01,  8.51760283e-02,\n",
       "         -8.86989236e-02,  8.69579613e-02, -4.61479016e-02,\n",
       "          3.04160989e-03,  3.50998253e-01,  7.84324110e-02,\n",
       "          9.00469869e-02,  3.16803396e-01, -1.58861533e-01,\n",
       "          1.62105113e-01,  1.67156607e-01, -1.78413570e-01,\n",
       "          2.53421336e-01, -2.47854833e-02, -2.10814595e-01,\n",
       "         -1.96436942e-01, -3.66608053e-02,  7.35476017e-02,\n",
       "          1.74682751e-01,  6.62876964e-02,  4.05865967e-01,\n",
       "         -2.73864325e-02, -2.78481189e-02, -2.00152084e-01,\n",
       "         -3.46288651e-01,  2.14937851e-01, -5.62624809e-05,\n",
       "          6.31638151e-03, -3.44957896e-02],\n",
       "        [ 1.97958067e-01, -1.93205461e-01, -2.18134359e-01,\n",
       "          1.36590078e-02, -1.91212744e-01,  2.08873153e-01,\n",
       "          1.33332163e-01,  1.42840192e-01, -3.04574013e-01,\n",
       "          2.79583782e-01, -2.95026302e-02, -1.72623228e-02,\n",
       "         -1.39405668e-01, -2.41438478e-01,  6.35463819e-02,\n",
       "          5.62307239e-03,  2.75168177e-02,  4.67203915e-01,\n",
       "          2.60629535e-01,  1.66417748e-01, -4.90869284e-02,\n",
       "          2.41400048e-01, -9.51570794e-02,  2.82351281e-02,\n",
       "          1.73339769e-01,  3.10269356e-01,  2.56072015e-01,\n",
       "         -2.60828827e-02, -5.89174256e-02,  1.38173193e-01,\n",
       "          2.06726491e-01,  2.77091414e-01],\n",
       "        [-5.38521186e-02,  1.50176853e-01,  2.83694476e-01,\n",
       "          2.22518235e-01,  5.90027273e-02,  2.45456621e-01,\n",
       "         -3.39777768e-02, -2.59404272e-01,  8.66961479e-02,\n",
       "          3.12427580e-01,  6.33253157e-02,  1.75654218e-01,\n",
       "          9.91377756e-02,  3.60579461e-01,  8.44331309e-02,\n",
       "         -9.30469334e-02, -3.30749333e-01, -2.30450824e-01,\n",
       "         -6.20553782e-03,  1.92267999e-01,  3.25394869e-02,\n",
       "          1.20486215e-01,  2.25043088e-01,  1.09844454e-01,\n",
       "         -3.50086540e-01, -2.51595318e-01,  1.01271421e-01,\n",
       "          4.77998459e-04,  2.28370786e-01,  1.57319725e-01,\n",
       "          1.08372122e-01,  6.89861551e-02],\n",
       "        [ 2.52173454e-01,  3.44475955e-01, -6.11149669e-02,\n",
       "          1.37095273e-01, -1.68030202e-01, -1.90938964e-01,\n",
       "          2.24198908e-01, -1.38786614e-01,  2.46665508e-01,\n",
       "         -3.41418207e-01, -2.76953936e-01, -1.52953193e-01,\n",
       "          2.41178244e-01, -3.29775482e-01, -2.07694605e-01,\n",
       "          2.33690351e-01, -8.75660479e-02, -2.74993777e-01,\n",
       "          1.37839228e-01,  2.93610543e-01, -2.81529486e-01,\n",
       "         -2.36014843e-01,  2.08482236e-01,  9.53250527e-02,\n",
       "          1.56226128e-01, -1.83227688e-01, -3.07558447e-01,\n",
       "          1.69456691e-01,  9.76812840e-03,  3.20987374e-01,\n",
       "          1.91405684e-01, -9.15658474e-03],\n",
       "        [ 2.33236104e-01,  1.16417676e-01, -7.99446404e-02,\n",
       "         -2.73275018e-01, -2.66500771e-01, -2.40503997e-01,\n",
       "          4.32939231e-02,  1.01115257e-01,  7.51660466e-02,\n",
       "          9.50549543e-02, -1.11176044e-01, -2.11117864e-01,\n",
       "         -3.30689400e-01, -5.90461195e-02,  1.80827826e-01,\n",
       "          1.94187075e-01, -2.30550170e-01,  3.12603563e-01,\n",
       "         -3.17477196e-01,  3.37581486e-01, -1.48731589e-01,\n",
       "         -1.53476402e-01,  3.09655279e-01, -2.11505279e-01,\n",
       "          3.52994531e-01,  3.17525417e-01,  1.69132084e-01,\n",
       "          1.56503409e-01,  2.99345464e-01, -1.52334556e-01,\n",
       "          2.01559395e-01,  2.23584563e-01],\n",
       "        [ 2.11918522e-02, -5.69862247e-01, -3.24176490e-01,\n",
       "          1.91652298e-01, -5.30047119e-02,  2.66230971e-01,\n",
       "          3.81475687e-01, -3.98403078e-01, -3.24141204e-01,\n",
       "         -2.78631866e-01,  3.17917049e-01, -1.28646150e-01,\n",
       "          2.70162374e-01, -1.41000912e-01, -2.12614939e-01,\n",
       "         -3.30547184e-01,  1.13610037e-01, -3.82409662e-01,\n",
       "         -4.98787016e-01,  5.26626945e-01,  2.69684166e-01,\n",
       "         -1.40440688e-01,  1.82944193e-01,  9.15439278e-02,\n",
       "          2.28040844e-01,  5.74279428e-01,  4.49961536e-02,\n",
       "          1.49634346e-01,  1.28132403e-02,  3.09909731e-01,\n",
       "          8.76473114e-02, -2.40431234e-01],\n",
       "        [-1.52045026e-01,  1.27994912e-02,  1.33014590e-01,\n",
       "         -6.00158982e-02, -1.12272292e-01,  2.54537642e-01,\n",
       "          4.98569727e-01, -2.61361986e-01, -1.19156227e-01,\n",
       "         -4.24900830e-01,  3.41927201e-01, -1.96228474e-01,\n",
       "          7.26476088e-02, -2.69443691e-01,  5.67222126e-02,\n",
       "          8.78432095e-02, -2.68429577e-01,  1.54623374e-01,\n",
       "         -3.94059390e-01,  2.03874171e-01, -3.31107408e-01,\n",
       "         -4.43785153e-02, -6.02426305e-02,  1.08721249e-01,\n",
       "          1.29628539e-01,  5.92541456e-01, -2.63318479e-01,\n",
       "          2.23856837e-01,  1.56689078e-01,  4.96925950e-01,\n",
       "         -4.14326834e-03,  5.76004647e-02],\n",
       "        [ 1.87230229e-01,  1.23026788e-01, -1.31454438e-01,\n",
       "         -2.92072762e-02, -3.08870465e-01,  2.15433821e-01,\n",
       "          2.96962559e-01,  4.91280347e-01, -1.45557508e-01,\n",
       "          3.62590015e-01,  2.66856812e-02, -1.85205162e-01,\n",
       "         -3.73286791e-02,  9.58444625e-02,  3.89098108e-01,\n",
       "         -2.84743100e-01,  9.49662402e-02,  1.04296423e-01,\n",
       "          4.72156823e-01, -4.40395400e-02, -2.71888942e-01,\n",
       "          4.12178695e-01, -1.00966580e-01, -1.55387849e-01,\n",
       "          5.26886843e-02,  1.98803276e-01,  2.33702645e-01,\n",
       "         -9.65768695e-02, -1.79656103e-01,  2.35817924e-01,\n",
       "          3.75322402e-01,  1.04332305e-01]], dtype=float32),\n",
       " array([ 0.11016077,  0.09252267, -0.01145144, -0.02666358,  0.        ,\n",
       "        -0.11844162, -0.10577127,  0.1978527 ,  0.        ,  0.16191156,\n",
       "        -0.12993324, -0.00329369, -0.0845967 ,  0.2123649 ,  0.2301243 ,\n",
       "         0.        , -0.02729059,  0.23882104,  0.20637654, -0.11943458,\n",
       "        -0.0003552 ,  0.15413794, -0.007859  , -0.13203192, -0.0570277 ,\n",
       "        -0.13559286,  0.10487561, -0.01518818, -0.03305407, -0.13487755,\n",
       "         0.10820599,  0.1025119 ], dtype=float32),\n",
       " array([[ 0.15717708, -0.6965066 ],\n",
       "        [ 0.15409975, -0.1853512 ],\n",
       "        [ 0.34419653,  0.01753359],\n",
       "        [-0.22729075,  0.04584216],\n",
       "        [-0.0047555 , -0.0214541 ],\n",
       "        [-0.13543072,  0.5118436 ],\n",
       "        [-0.54139954,  0.30898997],\n",
       "        [ 0.47625035, -0.72632855],\n",
       "        [-0.04727465, -0.23170142],\n",
       "        [ 0.74640554, -0.7770943 ],\n",
       "        [-0.45707703,  0.35719416],\n",
       "        [-0.2280522 , -0.0834702 ],\n",
       "        [-0.6903167 ,  0.10173585],\n",
       "        [ 0.16573325, -0.85437477],\n",
       "        [ 0.8232691 , -0.08271967],\n",
       "        [ 0.29638925, -0.16219777],\n",
       "        [-0.12690274, -0.07621676],\n",
       "        [ 0.26900378, -0.73135054],\n",
       "        [ 0.62547463, -0.4319642 ],\n",
       "        [-0.27115455,  0.45868683],\n",
       "        [-0.3500651 , -0.24651514],\n",
       "        [ 0.5926728 , -0.09135892],\n",
       "        [-0.06647235, -0.13639316],\n",
       "        [-0.43973848, -0.03655756],\n",
       "        [-0.01502648,  0.21051091],\n",
       "        [-0.5323447 ,  0.36085942],\n",
       "        [ 0.21363837, -0.33156174],\n",
       "        [-0.38306236, -0.15228093],\n",
       "        [-0.09975164,  0.36691287],\n",
       "        [-0.12110476,  0.47903013],\n",
       "        [ 0.21857908, -0.15460761],\n",
       "        [ 0.36356762, -0.15379405]], dtype=float32),\n",
       " array([ 0.10546152, -0.10546153], dtype=float32)]"
      ]
     },
     "execution_count": 49,
     "metadata": {},
     "output_type": "execute_result"
    }
   ],
   "source": [
    "new_model.get_weights()"
   ]
  },
  {
   "cell_type": "code",
   "execution_count": 50,
   "metadata": {
    "collapsed": false
   },
   "outputs": [
    {
     "data": {
      "text/plain": [
       "<keras.optimizers.optimizer_v2.adam.Adam at 0x21b6c3e7108>"
      ]
     },
     "execution_count": 50,
     "metadata": {},
     "output_type": "execute_result"
    }
   ],
   "source": [
    "new_model.optimizer"
   ]
  },
  {
   "attachments": {},
   "cell_type": "markdown",
   "metadata": {},
   "source": [
    "#### 2.To Jason\n",
    "If you only need to save the architecture of a model, and not its weights or its training configuration, you can use the following function to save the architecture only."
   ]
  },
  {
   "cell_type": "code",
   "execution_count": 51,
   "metadata": {
    "collapsed": true
   },
   "outputs": [],
   "source": [
    "# save as JSON\n",
    "json_string = model.to_json()\n",
    "# save as YAML\n",
    "# yaml_string = model.to_yaml()"
   ]
  },
  {
   "cell_type": "code",
   "execution_count": 52,
   "metadata": {
    "collapsed": false
   },
   "outputs": [
    {
     "data": {
      "text/plain": [
       "'{\"class_name\": \"Sequential\", \"config\": {\"name\": \"sequential\", \"layers\": [{\"class_name\": \"InputLayer\", \"config\": {\"batch_input_shape\": [null, 1], \"dtype\": \"float32\", \"sparse\": false, \"ragged\": false, \"name\": \"dense_input\"}}, {\"class_name\": \"Dense\", \"config\": {\"name\": \"dense\", \"trainable\": true, \"dtype\": \"float32\", \"batch_input_shape\": [null, 1], \"units\": 16, \"activation\": \"relu\", \"use_bias\": true, \"kernel_initializer\": {\"class_name\": \"GlorotUniform\", \"config\": {\"seed\": null}}, \"bias_initializer\": {\"class_name\": \"Zeros\", \"config\": {}}, \"kernel_regularizer\": null, \"bias_regularizer\": null, \"activity_regularizer\": null, \"kernel_constraint\": null, \"bias_constraint\": null}}, {\"class_name\": \"Dense\", \"config\": {\"name\": \"dense_1\", \"trainable\": true, \"dtype\": \"float32\", \"units\": 32, \"activation\": \"relu\", \"use_bias\": true, \"kernel_initializer\": {\"class_name\": \"GlorotUniform\", \"config\": {\"seed\": null}}, \"bias_initializer\": {\"class_name\": \"Zeros\", \"config\": {}}, \"kernel_regularizer\": null, \"bias_regularizer\": null, \"activity_regularizer\": null, \"kernel_constraint\": null, \"bias_constraint\": null}}, {\"class_name\": \"Dense\", \"config\": {\"name\": \"dense_2\", \"trainable\": true, \"dtype\": \"float32\", \"units\": 2, \"activation\": \"softmax\", \"use_bias\": true, \"kernel_initializer\": {\"class_name\": \"GlorotUniform\", \"config\": {\"seed\": null}}, \"bias_initializer\": {\"class_name\": \"Zeros\", \"config\": {}}, \"kernel_regularizer\": null, \"bias_regularizer\": null, \"activity_regularizer\": null, \"kernel_constraint\": null, \"bias_constraint\": null}}]}, \"keras_version\": \"2.11.0\", \"backend\": \"tensorflow\"}'"
      ]
     },
     "execution_count": 52,
     "metadata": {},
     "output_type": "execute_result"
    }
   ],
   "source": [
    "json_string"
   ]
  },
  {
   "cell_type": "code",
   "execution_count": 53,
   "metadata": {
    "collapsed": true
   },
   "outputs": [],
   "source": [
    "# model reconstruction from JSON:\n",
    "from keras.models import model_from_json\n",
    "model_architecture = model_from_json(json_string)\n",
    "\n",
    "# model reconstruction from YAML\n",
    "# from keras.models import model_from_yaml\n",
    "# model = model_from_yaml(yaml_string)"
   ]
  },
  {
   "cell_type": "code",
   "execution_count": 54,
   "metadata": {
    "collapsed": false
   },
   "outputs": [
    {
     "name": "stdout",
     "output_type": "stream",
     "text": [
      "Model: \"sequential\"\n",
      "_________________________________________________________________\n",
      " Layer (type)                Output Shape              Param #   \n",
      "=================================================================\n",
      " dense (Dense)               (None, 16)                32        \n",
      "                                                                 \n",
      " dense_1 (Dense)             (None, 32)                544       \n",
      "                                                                 \n",
      " dense_2 (Dense)             (None, 2)                 66        \n",
      "                                                                 \n",
      "=================================================================\n",
      "Total params: 642\n",
      "Trainable params: 642\n",
      "Non-trainable params: 0\n",
      "_________________________________________________________________\n"
     ]
    }
   ],
   "source": [
    "model_architecture.summary()"
   ]
  },
  {
   "attachments": {},
   "cell_type": "markdown",
   "metadata": {},
   "source": [
    "#### 3. Save Weights"
   ]
  },
  {
   "attachments": {},
   "cell_type": "markdown",
   "metadata": {},
   "source": [
    "If you only need to save the weights of a model, you can use the following function save the weights only."
   ]
  },
  {
   "cell_type": "code",
   "execution_count": 55,
   "metadata": {
    "collapsed": true
   },
   "outputs": [],
   "source": [
    "model.save_weights('my_model_weights.h5')"
   ]
  },
  {
   "cell_type": "code",
   "execution_count": 56,
   "metadata": {
    "collapsed": true
   },
   "outputs": [],
   "source": [
    "model2 = Sequential([\n",
    "    Dense(16, input_shape=(1,), activation='relu'),\n",
    "    Dense(32, activation='relu'),\n",
    "    Dense(2, activation='softmax')\n",
    "])"
   ]
  },
  {
   "cell_type": "code",
   "execution_count": 57,
   "metadata": {
    "collapsed": true
   },
   "outputs": [],
   "source": [
    "model2.load_weights('my_model_weights.h5')"
   ]
  },
  {
   "cell_type": "code",
   "execution_count": 58,
   "metadata": {},
   "outputs": [
    {
     "data": {
      "text/plain": [
       "[array([[ 0.7534571 ,  0.24824175, -0.34736633,  0.7283507 , -0.5603516 ,\n",
       "          0.4124363 , -0.12634872,  0.5573509 ,  0.18707137,  0.09768706,\n",
       "          0.05327072, -0.24089974, -0.5935962 ,  0.3333455 ,  0.4327991 ,\n",
       "          0.00121947]], dtype=float32),\n",
       " array([-0.17797248, -0.10688175,  0.        , -0.15727812,  0.        ,\n",
       "        -0.03539788,  0.20925955, -0.16769744,  0.06169777,  0.1935973 ,\n",
       "         0.07703411,  0.        ,  0.        , -0.12445618, -0.14399926,\n",
       "         0.24690191], dtype=float32),\n",
       " array([[-4.50978994e-01,  7.02699199e-02,  3.13374028e-02,\n",
       "         -2.37725630e-01, -1.80971906e-01, -8.53819773e-02,\n",
       "          4.99000281e-01, -4.64579403e-01, -2.31193900e-02,\n",
       "         -4.84978735e-01,  5.51173091e-01, -3.02017272e-01,\n",
       "          5.20827770e-01, -5.40094435e-01, -3.26509416e-01,\n",
       "          2.18878537e-01,  1.01302028e-01, -3.40356141e-01,\n",
       "         -2.61468351e-01,  3.76934588e-01, -1.36007726e-01,\n",
       "         -2.61129200e-01,  2.07674220e-01,  5.37256956e-01,\n",
       "         -3.47635895e-01,  4.62219357e-01,  1.28755823e-01,\n",
       "          1.54968202e-02, -3.29539388e-01,  4.74075586e-01,\n",
       "         -7.10994899e-02,  1.64133936e-01],\n",
       "        [-3.63248944e-01, -5.92760861e-01, -1.46013126e-01,\n",
       "         -3.47106785e-01,  2.65268534e-01,  5.28778911e-01,\n",
       "          4.68580931e-01, -2.70263284e-01, -3.03060710e-01,\n",
       "          2.69497279e-04,  4.72616285e-01,  3.34452987e-01,\n",
       "          4.03738827e-01, -4.18877929e-01,  1.86545607e-02,\n",
       "          1.54191405e-01,  6.78057224e-02, -7.07879290e-02,\n",
       "         -3.50503057e-01,  5.08995473e-01,  2.84827620e-01,\n",
       "         -4.14164841e-01, -1.41332284e-01,  5.97280860e-02,\n",
       "         -3.39490980e-01,  2.40732267e-01, -3.98374766e-01,\n",
       "         -3.20064388e-02,  9.27002653e-02,  2.37861142e-01,\n",
       "         -1.03758406e-02,  7.02788681e-02],\n",
       "        [-1.68820217e-01, -2.84486234e-01,  5.69327176e-02,\n",
       "          3.43763858e-01,  3.34089786e-01,  2.55399436e-01,\n",
       "         -2.61038005e-01,  2.70864636e-01,  3.22770745e-01,\n",
       "          2.27019936e-01,  1.96772426e-01, -2.04375118e-01,\n",
       "         -2.10247353e-01, -3.24557036e-01,  2.66280472e-02,\n",
       "          2.71351635e-02,  1.40100688e-01, -2.27619618e-01,\n",
       "          3.15964192e-01, -3.09197038e-01, -3.08425248e-01,\n",
       "         -2.65228689e-01, -9.43107307e-02,  6.62823319e-02,\n",
       "         -2.27972463e-01,  8.90352130e-02,  9.16774869e-02,\n",
       "         -6.02815449e-02, -3.36997509e-01,  2.40107983e-01,\n",
       "         -1.84858933e-01, -2.02798828e-01],\n",
       "        [ 2.09695902e-02,  6.41029105e-02,  9.72243920e-02,\n",
       "         -1.79209173e-01, -2.71011889e-01,  4.02116477e-01,\n",
       "         -9.91274640e-02, -3.75775039e-01, -1.67318851e-01,\n",
       "         -3.80830765e-01,  3.82786721e-01, -6.37120232e-02,\n",
       "          1.51337817e-01,  4.37510051e-02, -4.83733207e-01,\n",
       "         -1.38482064e-01, -2.88020074e-02, -3.96199971e-01,\n",
       "          9.30218920e-02,  1.81757450e-01, -1.02154270e-01,\n",
       "         -3.30371380e-01, -3.08652729e-01,  4.21260923e-01,\n",
       "         -1.53573245e-01,  3.40712070e-01, -2.20261678e-01,\n",
       "         -1.30316362e-01, -1.88775301e-01,  4.28291261e-02,\n",
       "         -5.00063956e-01, -5.24864793e-01],\n",
       "        [ 7.88146853e-02,  1.69675648e-02,  2.92738706e-01,\n",
       "          1.71859056e-01, -2.51535356e-01,  1.76353902e-01,\n",
       "          3.02765518e-01,  2.68986136e-01,  1.66447610e-01,\n",
       "          3.82583737e-02,  1.11805141e-01, -1.28602430e-01,\n",
       "          3.64181399e-03,  1.66954368e-01, -1.77057728e-01,\n",
       "          1.24255300e-01,  2.18541414e-01, -2.72165805e-01,\n",
       "         -2.90595263e-01,  1.64854079e-01,  1.76413566e-01,\n",
       "          2.00815052e-01, -1.87207103e-01, -1.72436997e-01,\n",
       "         -2.87999362e-01, -2.66536832e-01,  3.03167254e-01,\n",
       "          1.97519273e-01, -3.22557151e-01,  2.89267987e-01,\n",
       "         -5.02977073e-02,  1.75369352e-01],\n",
       "        [-3.90655279e-01, -2.38708362e-01, -1.40508249e-01,\n",
       "          1.01492904e-01, -1.11778155e-01,  4.78138357e-01,\n",
       "         -6.07262626e-02,  1.58975124e-01, -3.24644953e-01,\n",
       "          1.16303936e-01,  4.94185925e-01,  2.60567576e-01,\n",
       "         -5.57032302e-02,  2.73810208e-01,  2.22119913e-01,\n",
       "         -3.07742298e-01,  2.30924059e-02, -1.02447130e-01,\n",
       "         -3.57880086e-01,  2.53551662e-01, -8.63447040e-02,\n",
       "         -7.51044601e-02,  8.68050680e-02,  3.23142409e-01,\n",
       "         -2.47610852e-01,  4.41534519e-01, -7.85364062e-02,\n",
       "          1.05412593e-02, -3.53967339e-01,  4.78045762e-01,\n",
       "          1.31615609e-01,  1.27505496e-01],\n",
       "        [ 4.74509932e-02,  4.54222530e-01, -2.46624112e-01,\n",
       "          7.23078623e-02,  9.39270258e-02,  8.95941630e-02,\n",
       "         -4.09677655e-01,  4.57412690e-01,  1.63447231e-01,\n",
       "          2.75871515e-01, -2.08020434e-01,  3.35601382e-02,\n",
       "         -1.02083527e-01,  5.72367668e-01,  1.39379159e-01,\n",
       "          2.10166186e-01,  1.11497283e-01,  6.77619457e-01,\n",
       "          4.22586262e-01, -1.53081924e-01, -1.16936520e-01,\n",
       "          2.90889144e-01, -2.73052752e-01, -1.99469671e-01,\n",
       "          1.86508983e-01, -3.73250842e-01,  4.02439326e-01,\n",
       "          3.08490843e-01,  2.44358212e-01, -5.00199199e-01,\n",
       "          2.06945002e-01,  1.02316299e-02],\n",
       "        [ 1.41869038e-01, -2.37540692e-01,  1.79851264e-01,\n",
       "          3.12320292e-01,  1.91503078e-01,  3.25288832e-01,\n",
       "          4.69420224e-01, -3.17044139e-01,  1.20124429e-01,\n",
       "         -1.55466318e-01,  1.75268594e-02, -1.09883755e-01,\n",
       "          4.94455040e-01, -5.13219595e-01, -4.05502230e-01,\n",
       "         -8.92965198e-02, -2.00834438e-01, -3.63852888e-01,\n",
       "         -4.12337184e-01,  2.93217808e-01, -2.56202221e-02,\n",
       "         -5.33980072e-01,  7.20253438e-02,  5.67011893e-01,\n",
       "         -1.73157960e-01, -6.55138940e-02, -3.46814506e-02,\n",
       "          6.73637986e-02,  2.05263793e-01,  3.10476989e-01,\n",
       "         -5.36189042e-02, -4.99139279e-02],\n",
       "        [ 2.72013903e-01,  1.52824029e-01,  8.51760283e-02,\n",
       "         -8.86989236e-02,  8.69579613e-02, -4.61479016e-02,\n",
       "          3.04160989e-03,  3.50998253e-01,  7.84324110e-02,\n",
       "          9.00469869e-02,  3.16803396e-01, -1.58861533e-01,\n",
       "          1.62105113e-01,  1.67156607e-01, -1.78413570e-01,\n",
       "          2.53421336e-01, -2.47854833e-02, -2.10814595e-01,\n",
       "         -1.96436942e-01, -3.66608053e-02,  7.35476017e-02,\n",
       "          1.74682751e-01,  6.62876964e-02,  4.05865967e-01,\n",
       "         -2.73864325e-02, -2.78481189e-02, -2.00152084e-01,\n",
       "         -3.46288651e-01,  2.14937851e-01, -5.62624809e-05,\n",
       "          6.31638151e-03, -3.44957896e-02],\n",
       "        [ 1.97958067e-01, -1.93205461e-01, -2.18134359e-01,\n",
       "          1.36590078e-02, -1.91212744e-01,  2.08873153e-01,\n",
       "          1.33332163e-01,  1.42840192e-01, -3.04574013e-01,\n",
       "          2.79583782e-01, -2.95026302e-02, -1.72623228e-02,\n",
       "         -1.39405668e-01, -2.41438478e-01,  6.35463819e-02,\n",
       "          5.62307239e-03,  2.75168177e-02,  4.67203915e-01,\n",
       "          2.60629535e-01,  1.66417748e-01, -4.90869284e-02,\n",
       "          2.41400048e-01, -9.51570794e-02,  2.82351281e-02,\n",
       "          1.73339769e-01,  3.10269356e-01,  2.56072015e-01,\n",
       "         -2.60828827e-02, -5.89174256e-02,  1.38173193e-01,\n",
       "          2.06726491e-01,  2.77091414e-01],\n",
       "        [-5.38521186e-02,  1.50176853e-01,  2.83694476e-01,\n",
       "          2.22518235e-01,  5.90027273e-02,  2.45456621e-01,\n",
       "         -3.39777768e-02, -2.59404272e-01,  8.66961479e-02,\n",
       "          3.12427580e-01,  6.33253157e-02,  1.75654218e-01,\n",
       "          9.91377756e-02,  3.60579461e-01,  8.44331309e-02,\n",
       "         -9.30469334e-02, -3.30749333e-01, -2.30450824e-01,\n",
       "         -6.20553782e-03,  1.92267999e-01,  3.25394869e-02,\n",
       "          1.20486215e-01,  2.25043088e-01,  1.09844454e-01,\n",
       "         -3.50086540e-01, -2.51595318e-01,  1.01271421e-01,\n",
       "          4.77998459e-04,  2.28370786e-01,  1.57319725e-01,\n",
       "          1.08372122e-01,  6.89861551e-02],\n",
       "        [ 2.52173454e-01,  3.44475955e-01, -6.11149669e-02,\n",
       "          1.37095273e-01, -1.68030202e-01, -1.90938964e-01,\n",
       "          2.24198908e-01, -1.38786614e-01,  2.46665508e-01,\n",
       "         -3.41418207e-01, -2.76953936e-01, -1.52953193e-01,\n",
       "          2.41178244e-01, -3.29775482e-01, -2.07694605e-01,\n",
       "          2.33690351e-01, -8.75660479e-02, -2.74993777e-01,\n",
       "          1.37839228e-01,  2.93610543e-01, -2.81529486e-01,\n",
       "         -2.36014843e-01,  2.08482236e-01,  9.53250527e-02,\n",
       "          1.56226128e-01, -1.83227688e-01, -3.07558447e-01,\n",
       "          1.69456691e-01,  9.76812840e-03,  3.20987374e-01,\n",
       "          1.91405684e-01, -9.15658474e-03],\n",
       "        [ 2.33236104e-01,  1.16417676e-01, -7.99446404e-02,\n",
       "         -2.73275018e-01, -2.66500771e-01, -2.40503997e-01,\n",
       "          4.32939231e-02,  1.01115257e-01,  7.51660466e-02,\n",
       "          9.50549543e-02, -1.11176044e-01, -2.11117864e-01,\n",
       "         -3.30689400e-01, -5.90461195e-02,  1.80827826e-01,\n",
       "          1.94187075e-01, -2.30550170e-01,  3.12603563e-01,\n",
       "         -3.17477196e-01,  3.37581486e-01, -1.48731589e-01,\n",
       "         -1.53476402e-01,  3.09655279e-01, -2.11505279e-01,\n",
       "          3.52994531e-01,  3.17525417e-01,  1.69132084e-01,\n",
       "          1.56503409e-01,  2.99345464e-01, -1.52334556e-01,\n",
       "          2.01559395e-01,  2.23584563e-01],\n",
       "        [ 2.11918522e-02, -5.69862247e-01, -3.24176490e-01,\n",
       "          1.91652298e-01, -5.30047119e-02,  2.66230971e-01,\n",
       "          3.81475687e-01, -3.98403078e-01, -3.24141204e-01,\n",
       "         -2.78631866e-01,  3.17917049e-01, -1.28646150e-01,\n",
       "          2.70162374e-01, -1.41000912e-01, -2.12614939e-01,\n",
       "         -3.30547184e-01,  1.13610037e-01, -3.82409662e-01,\n",
       "         -4.98787016e-01,  5.26626945e-01,  2.69684166e-01,\n",
       "         -1.40440688e-01,  1.82944193e-01,  9.15439278e-02,\n",
       "          2.28040844e-01,  5.74279428e-01,  4.49961536e-02,\n",
       "          1.49634346e-01,  1.28132403e-02,  3.09909731e-01,\n",
       "          8.76473114e-02, -2.40431234e-01],\n",
       "        [-1.52045026e-01,  1.27994912e-02,  1.33014590e-01,\n",
       "         -6.00158982e-02, -1.12272292e-01,  2.54537642e-01,\n",
       "          4.98569727e-01, -2.61361986e-01, -1.19156227e-01,\n",
       "         -4.24900830e-01,  3.41927201e-01, -1.96228474e-01,\n",
       "          7.26476088e-02, -2.69443691e-01,  5.67222126e-02,\n",
       "          8.78432095e-02, -2.68429577e-01,  1.54623374e-01,\n",
       "         -3.94059390e-01,  2.03874171e-01, -3.31107408e-01,\n",
       "         -4.43785153e-02, -6.02426305e-02,  1.08721249e-01,\n",
       "          1.29628539e-01,  5.92541456e-01, -2.63318479e-01,\n",
       "          2.23856837e-01,  1.56689078e-01,  4.96925950e-01,\n",
       "         -4.14326834e-03,  5.76004647e-02],\n",
       "        [ 1.87230229e-01,  1.23026788e-01, -1.31454438e-01,\n",
       "         -2.92072762e-02, -3.08870465e-01,  2.15433821e-01,\n",
       "          2.96962559e-01,  4.91280347e-01, -1.45557508e-01,\n",
       "          3.62590015e-01,  2.66856812e-02, -1.85205162e-01,\n",
       "         -3.73286791e-02,  9.58444625e-02,  3.89098108e-01,\n",
       "         -2.84743100e-01,  9.49662402e-02,  1.04296423e-01,\n",
       "          4.72156823e-01, -4.40395400e-02, -2.71888942e-01,\n",
       "          4.12178695e-01, -1.00966580e-01, -1.55387849e-01,\n",
       "          5.26886843e-02,  1.98803276e-01,  2.33702645e-01,\n",
       "         -9.65768695e-02, -1.79656103e-01,  2.35817924e-01,\n",
       "          3.75322402e-01,  1.04332305e-01]], dtype=float32),\n",
       " array([ 0.11016077,  0.09252267, -0.01145144, -0.02666358,  0.        ,\n",
       "        -0.11844162, -0.10577127,  0.1978527 ,  0.        ,  0.16191156,\n",
       "        -0.12993324, -0.00329369, -0.0845967 ,  0.2123649 ,  0.2301243 ,\n",
       "         0.        , -0.02729059,  0.23882104,  0.20637654, -0.11943458,\n",
       "        -0.0003552 ,  0.15413794, -0.007859  , -0.13203192, -0.0570277 ,\n",
       "        -0.13559286,  0.10487561, -0.01518818, -0.03305407, -0.13487755,\n",
       "         0.10820599,  0.1025119 ], dtype=float32),\n",
       " array([[ 0.15717708, -0.6965066 ],\n",
       "        [ 0.15409975, -0.1853512 ],\n",
       "        [ 0.34419653,  0.01753359],\n",
       "        [-0.22729075,  0.04584216],\n",
       "        [-0.0047555 , -0.0214541 ],\n",
       "        [-0.13543072,  0.5118436 ],\n",
       "        [-0.54139954,  0.30898997],\n",
       "        [ 0.47625035, -0.72632855],\n",
       "        [-0.04727465, -0.23170142],\n",
       "        [ 0.74640554, -0.7770943 ],\n",
       "        [-0.45707703,  0.35719416],\n",
       "        [-0.2280522 , -0.0834702 ],\n",
       "        [-0.6903167 ,  0.10173585],\n",
       "        [ 0.16573325, -0.85437477],\n",
       "        [ 0.8232691 , -0.08271967],\n",
       "        [ 0.29638925, -0.16219777],\n",
       "        [-0.12690274, -0.07621676],\n",
       "        [ 0.26900378, -0.73135054],\n",
       "        [ 0.62547463, -0.4319642 ],\n",
       "        [-0.27115455,  0.45868683],\n",
       "        [-0.3500651 , -0.24651514],\n",
       "        [ 0.5926728 , -0.09135892],\n",
       "        [-0.06647235, -0.13639316],\n",
       "        [-0.43973848, -0.03655756],\n",
       "        [-0.01502648,  0.21051091],\n",
       "        [-0.5323447 ,  0.36085942],\n",
       "        [ 0.21363837, -0.33156174],\n",
       "        [-0.38306236, -0.15228093],\n",
       "        [-0.09975164,  0.36691287],\n",
       "        [-0.12110476,  0.47903013],\n",
       "        [ 0.21857908, -0.15460761],\n",
       "        [ 0.36356762, -0.15379405]], dtype=float32),\n",
       " array([ 0.10546152, -0.10546153], dtype=float32)]"
      ]
     },
     "execution_count": 58,
     "metadata": {},
     "output_type": "execute_result"
    }
   ],
   "source": [
    "model2.get_weights()"
   ]
  }
 ],
 "metadata": {
  "kernelspec": {
   "display_name": "Python 3",
   "language": "python",
   "name": "python3"
  },
  "language_info": {
   "codemirror_mode": {
    "name": "ipython",
    "version": 3
   },
   "file_extension": ".py",
   "mimetype": "text/x-python",
   "name": "python",
   "nbconvert_exporter": "python",
   "pygments_lexer": "ipython3",
   "version": "3.7.9"
  },
  "vscode": {
   "interpreter": {
    "hash": "74f73ff77506c8c8ceba512ad7b5b6c726542645d4402b3e6c24c3aa2a10b197"
   }
  }
 },
 "nbformat": 4,
 "nbformat_minor": 2
}
